{
 "cells": [
  {
   "cell_type": "code",
   "execution_count": 2,
   "id": "33e5373c",
   "metadata": {},
   "outputs": [],
   "source": [
    "import pandas as pd\n",
    "import numpy as np"
   ]
  },
  {
   "cell_type": "code",
   "execution_count": 18,
   "id": "78b4f313",
   "metadata": {
    "scrolled": true
   },
   "outputs": [
    {
     "name": "stderr",
     "output_type": "stream",
     "text": [
      "/var/folders/nv/z55hwk9s44768mxrw8h7j2bh0000gp/T/ipykernel_9911/712611599.py:1: DtypeWarning: Columns (1,2,5) have mixed types. Specify dtype option on import or set low_memory=False.\n",
      "  df = pd.read_csv(\"/Users/namanpant/Downloads/rishab_path_last_1M.csv\")\n"
     ]
    }
   ],
   "source": [
    "df = pd.read_csv(\"/Users/namanpant/Downloads/rishab_path_last_1M.csv\")"
   ]
  },
  {
   "cell_type": "code",
   "execution_count": 19,
   "id": "4f4ac6ff",
   "metadata": {},
   "outputs": [
    {
     "data": {
      "text/html": [
       "<div>\n",
       "<style scoped>\n",
       "    .dataframe tbody tr th:only-of-type {\n",
       "        vertical-align: middle;\n",
       "    }\n",
       "\n",
       "    .dataframe tbody tr th {\n",
       "        vertical-align: top;\n",
       "    }\n",
       "\n",
       "    .dataframe thead th {\n",
       "        text-align: right;\n",
       "    }\n",
       "</style>\n",
       "<table border=\"1\" class=\"dataframe\">\n",
       "  <thead>\n",
       "    <tr style=\"text-align: right;\">\n",
       "      <th></th>\n",
       "      <th>_id</th>\n",
       "      <th>telephone</th>\n",
       "      <th>User ID</th>\n",
       "      <th>Product ID</th>\n",
       "      <th>ts</th>\n",
       "      <th>pincode</th>\n",
       "      <th>platform</th>\n",
       "      <th>Rating</th>\n",
       "      <th>Session ID</th>\n",
       "      <th>User ID1</th>\n",
       "      <th>user_id_hashed</th>\n",
       "    </tr>\n",
       "  </thead>\n",
       "  <tbody>\n",
       "    <tr>\n",
       "      <th>0</th>\n",
       "      <td>65120501</td>\n",
       "      <td>9848223709</td>\n",
       "      <td>9848223709</td>\n",
       "      <td>148912</td>\n",
       "      <td>2.022092e+13</td>\n",
       "      <td>533005</td>\n",
       "      <td>Android</td>\n",
       "      <td>0.5</td>\n",
       "      <td>143452.0</td>\n",
       "      <td>9848223709*143452</td>\n",
       "      <td>41278098</td>\n",
       "    </tr>\n",
       "    <tr>\n",
       "      <th>1</th>\n",
       "      <td>55395639</td>\n",
       "      <td>9848251185</td>\n",
       "      <td>9848251185</td>\n",
       "      <td>147855</td>\n",
       "      <td>2.022092e+13</td>\n",
       "      <td>503111</td>\n",
       "      <td>Web</td>\n",
       "      <td>0.5</td>\n",
       "      <td>143453.0</td>\n",
       "      <td>9848251185*143453</td>\n",
       "      <td>41278099</td>\n",
       "    </tr>\n",
       "    <tr>\n",
       "      <th>2</th>\n",
       "      <td>55395639</td>\n",
       "      <td>9848251185</td>\n",
       "      <td>9848251185</td>\n",
       "      <td>204585</td>\n",
       "      <td>2.022092e+13</td>\n",
       "      <td>503111</td>\n",
       "      <td>Web</td>\n",
       "      <td>0.5</td>\n",
       "      <td>143453.0</td>\n",
       "      <td>9848251185*143453</td>\n",
       "      <td>41278099</td>\n",
       "    </tr>\n",
       "    <tr>\n",
       "      <th>3</th>\n",
       "      <td>55395639</td>\n",
       "      <td>9848251185</td>\n",
       "      <td>9848251185</td>\n",
       "      <td>151243</td>\n",
       "      <td>2.022092e+13</td>\n",
       "      <td>503111</td>\n",
       "      <td>Web</td>\n",
       "      <td>0.5</td>\n",
       "      <td>143453.0</td>\n",
       "      <td>9848251185*143453</td>\n",
       "      <td>41278099</td>\n",
       "    </tr>\n",
       "    <tr>\n",
       "      <th>4</th>\n",
       "      <td>55395639</td>\n",
       "      <td>9848251185</td>\n",
       "      <td>9848251185</td>\n",
       "      <td>142995</td>\n",
       "      <td>2.022092e+13</td>\n",
       "      <td>503111</td>\n",
       "      <td>Web</td>\n",
       "      <td>0.5</td>\n",
       "      <td>143453.0</td>\n",
       "      <td>9848251185*143453</td>\n",
       "      <td>41278099</td>\n",
       "    </tr>\n",
       "  </tbody>\n",
       "</table>\n",
       "</div>"
      ],
      "text/plain": [
       "        _id   telephone     User ID  Product ID            ts pincode  \\\n",
       "0  65120501  9848223709  9848223709      148912  2.022092e+13  533005   \n",
       "1  55395639  9848251185  9848251185      147855  2.022092e+13  503111   \n",
       "2  55395639  9848251185  9848251185      204585  2.022092e+13  503111   \n",
       "3  55395639  9848251185  9848251185      151243  2.022092e+13  503111   \n",
       "4  55395639  9848251185  9848251185      142995  2.022092e+13  503111   \n",
       "\n",
       "  platform  Rating  Session ID           User ID1  user_id_hashed  \n",
       "0  Android     0.5    143452.0  9848223709*143452        41278098  \n",
       "1      Web     0.5    143453.0  9848251185*143453        41278099  \n",
       "2      Web     0.5    143453.0  9848251185*143453        41278099  \n",
       "3      Web     0.5    143453.0  9848251185*143453        41278099  \n",
       "4      Web     0.5    143453.0  9848251185*143453        41278099  "
      ]
     },
     "execution_count": 19,
     "metadata": {},
     "output_type": "execute_result"
    }
   ],
   "source": [
    "df.head()"
   ]
  },
  {
   "cell_type": "code",
   "execution_count": 20,
   "id": "82467d91",
   "metadata": {},
   "outputs": [
    {
     "name": "stdout",
     "output_type": "stream",
     "text": [
      "<class 'pandas.core.frame.DataFrame'>\n",
      "RangeIndex: 1000000 entries, 0 to 999999\n",
      "Data columns (total 11 columns):\n",
      " #   Column          Non-Null Count    Dtype  \n",
      "---  ------          --------------    -----  \n",
      " 0   _id             1000000 non-null  int64  \n",
      " 1   telephone       1000000 non-null  object \n",
      " 2   User ID         1000000 non-null  object \n",
      " 3   Product ID      1000000 non-null  int64  \n",
      " 4   ts              1000000 non-null  float64\n",
      " 5   pincode         982946 non-null   object \n",
      " 6   platform        1000000 non-null  object \n",
      " 7   Rating          1000000 non-null  float64\n",
      " 8   Session ID      1000000 non-null  float64\n",
      " 9   User ID1        1000000 non-null  object \n",
      " 10  user_id_hashed  1000000 non-null  int64  \n",
      "dtypes: float64(3), int64(3), object(5)\n",
      "memory usage: 83.9+ MB\n"
     ]
    }
   ],
   "source": [
    "df.info()"
   ]
  },
  {
   "cell_type": "code",
   "execution_count": 24,
   "id": "637608f7",
   "metadata": {},
   "outputs": [],
   "source": [
    "columns = df.columns\n",
    "df = df.iloc[200000:, :]"
   ]
  },
  {
   "cell_type": "code",
   "execution_count": 25,
   "id": "3d8beba1",
   "metadata": {},
   "outputs": [
    {
     "name": "stdout",
     "output_type": "stream",
     "text": [
      "<class 'pandas.core.frame.DataFrame'>\n",
      "RangeIndex: 800000 entries, 200000 to 999999\n",
      "Data columns (total 11 columns):\n",
      " #   Column          Non-Null Count   Dtype  \n",
      "---  ------          --------------   -----  \n",
      " 0   _id             800000 non-null  int64  \n",
      " 1   telephone       800000 non-null  object \n",
      " 2   User ID         800000 non-null  object \n",
      " 3   Product ID      800000 non-null  int64  \n",
      " 4   ts              800000 non-null  float64\n",
      " 5   pincode         786434 non-null  object \n",
      " 6   platform        800000 non-null  object \n",
      " 7   Rating          800000 non-null  float64\n",
      " 8   Session ID      800000 non-null  float64\n",
      " 9   User ID1        800000 non-null  object \n",
      " 10  user_id_hashed  800000 non-null  int64  \n",
      "dtypes: float64(3), int64(3), object(5)\n",
      "memory usage: 67.1+ MB\n"
     ]
    }
   ],
   "source": [
    "df.info()"
   ]
  },
  {
   "cell_type": "code",
   "execution_count": 30,
   "id": "6fae012d",
   "metadata": {},
   "outputs": [
    {
     "data": {
      "text/html": [
       "<div>\n",
       "<style scoped>\n",
       "    .dataframe tbody tr th:only-of-type {\n",
       "        vertical-align: middle;\n",
       "    }\n",
       "\n",
       "    .dataframe tbody tr th {\n",
       "        vertical-align: top;\n",
       "    }\n",
       "\n",
       "    .dataframe thead th {\n",
       "        text-align: right;\n",
       "    }\n",
       "</style>\n",
       "<table border=\"1\" class=\"dataframe\">\n",
       "  <thead>\n",
       "    <tr style=\"text-align: right;\">\n",
       "      <th></th>\n",
       "      <th>_id</th>\n",
       "      <th>telephone</th>\n",
       "      <th>User ID</th>\n",
       "      <th>Product ID</th>\n",
       "      <th>ts</th>\n",
       "      <th>pincode</th>\n",
       "      <th>platform</th>\n",
       "      <th>Rating</th>\n",
       "      <th>Session ID</th>\n",
       "      <th>User ID1</th>\n",
       "      <th>user_id_hashed</th>\n",
       "    </tr>\n",
       "  </thead>\n",
       "  <tbody>\n",
       "    <tr>\n",
       "      <th>200000</th>\n",
       "      <td>47569202</td>\n",
       "      <td>7287937367</td>\n",
       "      <td>7287937367</td>\n",
       "      <td>148393</td>\n",
       "      <td>2.022092e+13</td>\n",
       "      <td>600113</td>\n",
       "      <td>Android</td>\n",
       "      <td>0.85</td>\n",
       "      <td>21922.0</td>\n",
       "      <td>7287937367*21922</td>\n",
       "      <td>41318925</td>\n",
       "    </tr>\n",
       "    <tr>\n",
       "      <th>200001</th>\n",
       "      <td>47569202</td>\n",
       "      <td>7287937367</td>\n",
       "      <td>7287937367</td>\n",
       "      <td>146461</td>\n",
       "      <td>2.022092e+13</td>\n",
       "      <td>600113</td>\n",
       "      <td>Android</td>\n",
       "      <td>0.50</td>\n",
       "      <td>21922.0</td>\n",
       "      <td>7287937367*21922</td>\n",
       "      <td>41318925</td>\n",
       "    </tr>\n",
       "    <tr>\n",
       "      <th>200002</th>\n",
       "      <td>47569202</td>\n",
       "      <td>7287937367</td>\n",
       "      <td>7287937367</td>\n",
       "      <td>146461</td>\n",
       "      <td>2.022092e+13</td>\n",
       "      <td>600113</td>\n",
       "      <td>Android</td>\n",
       "      <td>0.85</td>\n",
       "      <td>21922.0</td>\n",
       "      <td>7287937367*21922</td>\n",
       "      <td>41318925</td>\n",
       "    </tr>\n",
       "    <tr>\n",
       "      <th>200003</th>\n",
       "      <td>47569202</td>\n",
       "      <td>7287937367</td>\n",
       "      <td>7287937367</td>\n",
       "      <td>137950</td>\n",
       "      <td>2.022092e+13</td>\n",
       "      <td>600113</td>\n",
       "      <td>Android</td>\n",
       "      <td>0.50</td>\n",
       "      <td>21922.0</td>\n",
       "      <td>7287937367*21922</td>\n",
       "      <td>41318925</td>\n",
       "    </tr>\n",
       "    <tr>\n",
       "      <th>200004</th>\n",
       "      <td>47569202</td>\n",
       "      <td>7287937367</td>\n",
       "      <td>7287937367</td>\n",
       "      <td>148393</td>\n",
       "      <td>2.022092e+13</td>\n",
       "      <td>600113</td>\n",
       "      <td>Android</td>\n",
       "      <td>0.85</td>\n",
       "      <td>21922.0</td>\n",
       "      <td>7287937367*21922</td>\n",
       "      <td>41318925</td>\n",
       "    </tr>\n",
       "  </tbody>\n",
       "</table>\n",
       "</div>"
      ],
      "text/plain": [
       "             _id   telephone     User ID  Product ID            ts pincode  \\\n",
       "200000  47569202  7287937367  7287937367      148393  2.022092e+13  600113   \n",
       "200001  47569202  7287937367  7287937367      146461  2.022092e+13  600113   \n",
       "200002  47569202  7287937367  7287937367      146461  2.022092e+13  600113   \n",
       "200003  47569202  7287937367  7287937367      137950  2.022092e+13  600113   \n",
       "200004  47569202  7287937367  7287937367      148393  2.022092e+13  600113   \n",
       "\n",
       "       platform  Rating  Session ID          User ID1  user_id_hashed  \n",
       "200000  Android    0.85     21922.0  7287937367*21922        41318925  \n",
       "200001  Android    0.50     21922.0  7287937367*21922        41318925  \n",
       "200002  Android    0.85     21922.0  7287937367*21922        41318925  \n",
       "200003  Android    0.50     21922.0  7287937367*21922        41318925  \n",
       "200004  Android    0.85     21922.0  7287937367*21922        41318925  "
      ]
     },
     "execution_count": 30,
     "metadata": {},
     "output_type": "execute_result"
    }
   ],
   "source": [
    "df.shape\n",
    "df.head()"
   ]
  },
  {
   "cell_type": "code",
   "execution_count": 29,
   "id": "9358054d",
   "metadata": {},
   "outputs": [
    {
     "name": "stdout",
     "output_type": "stream",
     "text": [
      "_id                       47569202\n",
      "telephone               7287937367\n",
      "User ID                 7287937367\n",
      "Product ID                  148393\n",
      "ts                20220917083807.0\n",
      "pincode                     600113\n",
      "platform                   Android\n",
      "Rating                        0.85\n",
      "Session ID                 21922.0\n",
      "User ID1          7287937367*21922\n",
      "user_id_hashed            41318925\n",
      "Name: 200000, dtype: object\n"
     ]
    }
   ],
   "source": [
    "print(df.iloc[0])"
   ]
  },
  {
   "cell_type": "code",
   "execution_count": 31,
   "id": "6bf8d3c0",
   "metadata": {},
   "outputs": [],
   "source": [
    "df.to_csv(\"userdata.csv\", header = columns, index = False)"
   ]
  },
  {
   "cell_type": "code",
   "execution_count": 32,
   "id": "e7af06c3",
   "metadata": {},
   "outputs": [
    {
     "name": "stderr",
     "output_type": "stream",
     "text": [
      "/var/folders/nv/z55hwk9s44768mxrw8h7j2bh0000gp/T/ipykernel_9911/3551052658.py:1: DtypeWarning: Columns (1,2,5) have mixed types. Specify dtype option on import or set low_memory=False.\n",
      "  df = pd.read_csv(\"userdata.csv\")\n"
     ]
    }
   ],
   "source": [
    "df = pd.read_csv(\"userdata.csv\")"
   ]
  },
  {
   "cell_type": "code",
   "execution_count": 33,
   "id": "4156d8e6",
   "metadata": {},
   "outputs": [
    {
     "name": "stdout",
     "output_type": "stream",
     "text": [
      "<class 'pandas.core.frame.DataFrame'>\n",
      "RangeIndex: 800000 entries, 0 to 799999\n",
      "Data columns (total 11 columns):\n",
      " #   Column          Non-Null Count   Dtype  \n",
      "---  ------          --------------   -----  \n",
      " 0   _id             800000 non-null  int64  \n",
      " 1   telephone       800000 non-null  object \n",
      " 2   User ID         800000 non-null  object \n",
      " 3   Product ID      800000 non-null  int64  \n",
      " 4   ts              800000 non-null  float64\n",
      " 5   pincode         786434 non-null  object \n",
      " 6   platform        800000 non-null  object \n",
      " 7   Rating          800000 non-null  float64\n",
      " 8   Session ID      800000 non-null  float64\n",
      " 9   User ID1        800000 non-null  object \n",
      " 10  user_id_hashed  800000 non-null  int64  \n",
      "dtypes: float64(3), int64(3), object(5)\n",
      "memory usage: 67.1+ MB\n"
     ]
    }
   ],
   "source": [
    "df.info()"
   ]
  },
  {
   "cell_type": "code",
   "execution_count": 34,
   "id": "155078f9",
   "metadata": {},
   "outputs": [],
   "source": [
    "df = df.loc[:10000,[\"telephone\", \"ts\", \"Rating\"]]"
   ]
  },
  {
   "cell_type": "code",
   "execution_count": 35,
   "id": "bd8cd1f6",
   "metadata": {},
   "outputs": [
    {
     "data": {
      "text/html": [
       "<div>\n",
       "<style scoped>\n",
       "    .dataframe tbody tr th:only-of-type {\n",
       "        vertical-align: middle;\n",
       "    }\n",
       "\n",
       "    .dataframe tbody tr th {\n",
       "        vertical-align: top;\n",
       "    }\n",
       "\n",
       "    .dataframe thead th {\n",
       "        text-align: right;\n",
       "    }\n",
       "</style>\n",
       "<table border=\"1\" class=\"dataframe\">\n",
       "  <thead>\n",
       "    <tr style=\"text-align: right;\">\n",
       "      <th></th>\n",
       "      <th>telephone</th>\n",
       "      <th>ts</th>\n",
       "      <th>Rating</th>\n",
       "    </tr>\n",
       "  </thead>\n",
       "  <tbody>\n",
       "    <tr>\n",
       "      <th>0</th>\n",
       "      <td>7287937367</td>\n",
       "      <td>2.022092e+13</td>\n",
       "      <td>0.85</td>\n",
       "    </tr>\n",
       "    <tr>\n",
       "      <th>1</th>\n",
       "      <td>7287937367</td>\n",
       "      <td>2.022092e+13</td>\n",
       "      <td>0.50</td>\n",
       "    </tr>\n",
       "    <tr>\n",
       "      <th>2</th>\n",
       "      <td>7287937367</td>\n",
       "      <td>2.022092e+13</td>\n",
       "      <td>0.85</td>\n",
       "    </tr>\n",
       "    <tr>\n",
       "      <th>3</th>\n",
       "      <td>7287937367</td>\n",
       "      <td>2.022092e+13</td>\n",
       "      <td>0.50</td>\n",
       "    </tr>\n",
       "    <tr>\n",
       "      <th>4</th>\n",
       "      <td>7287937367</td>\n",
       "      <td>2.022092e+13</td>\n",
       "      <td>0.85</td>\n",
       "    </tr>\n",
       "  </tbody>\n",
       "</table>\n",
       "</div>"
      ],
      "text/plain": [
       "    telephone            ts  Rating\n",
       "0  7287937367  2.022092e+13    0.85\n",
       "1  7287937367  2.022092e+13    0.50\n",
       "2  7287937367  2.022092e+13    0.85\n",
       "3  7287937367  2.022092e+13    0.50\n",
       "4  7287937367  2.022092e+13    0.85"
      ]
     },
     "execution_count": 35,
     "metadata": {},
     "output_type": "execute_result"
    }
   ],
   "source": [
    "df.head()"
   ]
  },
  {
   "cell_type": "code",
   "execution_count": 36,
   "id": "818132a8",
   "metadata": {},
   "outputs": [
    {
     "data": {
      "text/plain": [
       "(10001, 3)"
      ]
     },
     "execution_count": 36,
     "metadata": {},
     "output_type": "execute_result"
    }
   ],
   "source": [
    "df.shape"
   ]
  },
  {
   "cell_type": "code",
   "execution_count": 37,
   "id": "f86df369",
   "metadata": {},
   "outputs": [
    {
     "name": "stdout",
     "output_type": "stream",
     "text": [
      "<class 'pandas.core.frame.DataFrame'>\n",
      "RangeIndex: 10001 entries, 0 to 10000\n",
      "Data columns (total 3 columns):\n",
      " #   Column     Non-Null Count  Dtype  \n",
      "---  ------     --------------  -----  \n",
      " 0   telephone  10001 non-null  object \n",
      " 1   ts         10001 non-null  float64\n",
      " 2   Rating     10001 non-null  float64\n",
      "dtypes: float64(2), object(1)\n",
      "memory usage: 234.5+ KB\n"
     ]
    }
   ],
   "source": [
    "df.info()"
   ]
  },
  {
   "cell_type": "code",
   "execution_count": 38,
   "id": "bf0d80f9",
   "metadata": {},
   "outputs": [],
   "source": [
    "fdf = pd.DataFrame()"
   ]
  },
  {
   "cell_type": "code",
   "execution_count": null,
   "id": "a7947050",
   "metadata": {},
   "outputs": [],
   "source": [
    "df[\"ts\"] = "
   ]
  },
  {
   "cell_type": "code",
   "execution_count": null,
   "id": "d604dfd6",
   "metadata": {},
   "outputs": [],
   "source": []
  }
 ],
 "metadata": {
  "kernelspec": {
   "display_name": "Python 3 (ipykernel)",
   "language": "python",
   "name": "python3"
  },
  "language_info": {
   "codemirror_mode": {
    "name": "ipython",
    "version": 3
   },
   "file_extension": ".py",
   "mimetype": "text/x-python",
   "name": "python",
   "nbconvert_exporter": "python",
   "pygments_lexer": "ipython3",
   "version": "3.9.12"
  }
 },
 "nbformat": 4,
 "nbformat_minor": 5
}
